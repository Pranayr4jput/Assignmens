{
 "cells": [
  {
   "cell_type": "markdown",
   "id": "31a1f284",
   "metadata": {},
   "source": [
    " # My Jupyter Notebook on IBM Watson Studio"
   ]
  },
  {
   "cell_type": "markdown",
   "id": "7486b78f",
   "metadata": {},
   "source": [
    "**PRANAYRAJ SINGH CHOUHAN**\n",
    "<br>Data Scientist"
   ]
  },
  {
   "cell_type": "markdown",
   "id": "1ca77943",
   "metadata": {},
   "source": [
    "*I am interested in data science because i love to work with data*"
   ]
  },
  {
   "cell_type": "markdown",
   "id": "14031613",
   "metadata": {},
   "source": [
    "### Printing a string Hello IBM"
   ]
  },
  {
   "cell_type": "code",
   "execution_count": 3,
   "id": "0cdc3616",
   "metadata": {},
   "outputs": [
    {
     "name": "stdout",
     "output_type": "stream",
     "text": [
      "Hello IBM\n"
     ]
    }
   ],
   "source": [
    "print(\"Hello IBM\")"
   ]
  },
  {
   "cell_type": "markdown",
   "id": "46979682",
   "metadata": {},
   "source": [
    ">* * * Hi i am Pranay<br>\n",
    ">[PIC OF IBM](https://images.app.goo.gl/a6qoULyiBTVfuvC89 \"ibm pic\")<br>\n",
    ">This is a blocked quote"
   ]
  }
 ],
 "metadata": {
  "kernelspec": {
   "display_name": "Python 3 (ipykernel)",
   "language": "python",
   "name": "python3"
  },
  "language_info": {
   "codemirror_mode": {
    "name": "ipython",
    "version": 3
   },
   "file_extension": ".py",
   "mimetype": "text/x-python",
   "name": "python",
   "nbconvert_exporter": "python",
   "pygments_lexer": "ipython3",
   "version": "3.10.5"
  }
 },
 "nbformat": 4,
 "nbformat_minor": 5
}
